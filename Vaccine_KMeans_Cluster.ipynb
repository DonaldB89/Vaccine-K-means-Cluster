{
 "cells": [
  {
   "cell_type": "code",
   "execution_count": 1,
   "metadata": {},
   "outputs": [],
   "source": [
    "#Packages used for the k-means clusters\n",
    "from sklearn.cluster import KMeans\n",
    "import pandas as pd \n",
    "import numpy as np\n",
    "from sklearn import preprocessing as per\n",
    "from sklearn.preprocessing import MinMaxScaler\n",
    "from matplotlib import pyplot as plt\n",
    "from sklearn.linear_model import LinearRegression\n",
    "from sklearn import preprocessing\n",
    "import csv\n",
    "%matplotlib inline"
   ]
  },
  {
   "cell_type": "code",
   "execution_count": 2,
   "metadata": {},
   "outputs": [
    {
     "data": {
      "text/html": [
       "<div>\n",
       "<style scoped>\n",
       "    .dataframe tbody tr th:only-of-type {\n",
       "        vertical-align: middle;\n",
       "    }\n",
       "\n",
       "    .dataframe tbody tr th {\n",
       "        vertical-align: top;\n",
       "    }\n",
       "\n",
       "    .dataframe thead th {\n",
       "        text-align: right;\n",
       "    }\n",
       "</style>\n",
       "<table border=\"1\" class=\"dataframe\">\n",
       "  <thead>\n",
       "    <tr style=\"text-align: right;\">\n",
       "      <th></th>\n",
       "      <th>iso</th>\n",
       "      <th>Country</th>\n",
       "      <th>Secured_Vaccine_Supply_(Percent)</th>\n",
       "      <th>Vaccine_Doses_Received_Percent</th>\n",
       "      <th>vaccine_willingness_monthly</th>\n",
       "      <th>h7_vaccinationpolicy</th>\n",
       "      <th>stringencyindex</th>\n",
       "      <th>uhc</th>\n",
       "      <th>casescumulativetotalper100000pop</th>\n",
       "      <th>casesnewlyreportedinlast7daysper</th>\n",
       "      <th>deathscumulativetotalper100000po</th>\n",
       "      <th>total_vaccinations_per100</th>\n",
       "      <th>persons_vaccinated_atleast_once</th>\n",
       "      <th>persons_fully_vaccinated_per100</th>\n",
       "      <th>total_boosters_per_hundred</th>\n",
       "      <th>first_vaccine_date</th>\n",
       "      <th>number_vaccines_types_used</th>\n",
       "      <th>Average trend</th>\n",
       "    </tr>\n",
       "  </thead>\n",
       "  <tbody>\n",
       "    <tr>\n",
       "      <th>0</th>\n",
       "      <td>VNM</td>\n",
       "      <td>The Socialist Republic of Viet Nam</td>\n",
       "      <td>136.60</td>\n",
       "      <td>181.94</td>\n",
       "      <td>99.1</td>\n",
       "      <td>5.0</td>\n",
       "      <td>68.519997</td>\n",
       "      <td>75.0</td>\n",
       "      <td>2214.7271</td>\n",
       "      <td>113.51500</td>\n",
       "      <td>37.891998</td>\n",
       "      <td>170.050000</td>\n",
       "      <td>80.675003</td>\n",
       "      <td>73.914001</td>\n",
       "      <td>NaN</td>\n",
       "      <td>08/03/2021</td>\n",
       "      <td>6</td>\n",
       "      <td>12.88</td>\n",
       "    </tr>\n",
       "    <tr>\n",
       "      <th>1</th>\n",
       "      <td>MYS</td>\n",
       "      <td>Malaysia</td>\n",
       "      <td>146.16</td>\n",
       "      <td>200.60</td>\n",
       "      <td>98.8</td>\n",
       "      <td>5.0</td>\n",
       "      <td>50.459999</td>\n",
       "      <td>73.0</td>\n",
       "      <td>8762.7734</td>\n",
       "      <td>78.69400</td>\n",
       "      <td>98.566002</td>\n",
       "      <td>186.049000</td>\n",
       "      <td>80.386002</td>\n",
       "      <td>78.599998</td>\n",
       "      <td>33.270000</td>\n",
       "      <td>24/02/2021</td>\n",
       "      <td>5</td>\n",
       "      <td>13.97</td>\n",
       "    </tr>\n",
       "    <tr>\n",
       "      <th>2</th>\n",
       "      <td>KWT</td>\n",
       "      <td>The State of Kuwait</td>\n",
       "      <td>90.47</td>\n",
       "      <td>180.93</td>\n",
       "      <td>98.8</td>\n",
       "      <td>5.0</td>\n",
       "      <td>26.850000</td>\n",
       "      <td>76.0</td>\n",
       "      <td>11769.6210</td>\n",
       "      <td>752.87402</td>\n",
       "      <td>58.236000</td>\n",
       "      <td>169.619000</td>\n",
       "      <td>78.619003</td>\n",
       "      <td>75.982002</td>\n",
       "      <td>8.800000</td>\n",
       "      <td>28/12/2020</td>\n",
       "      <td>5</td>\n",
       "      <td>17.69</td>\n",
       "    </tr>\n",
       "    <tr>\n",
       "      <th>3</th>\n",
       "      <td>BGD</td>\n",
       "      <td>The People's Republic of Bangladesh</td>\n",
       "      <td>110.09</td>\n",
       "      <td>200.65</td>\n",
       "      <td>98.6</td>\n",
       "      <td>5.0</td>\n",
       "      <td>64.809998</td>\n",
       "      <td>48.0</td>\n",
       "      <td>1041.9600</td>\n",
       "      <td>50.52100</td>\n",
       "      <td>17.157000</td>\n",
       "      <td>89.717003</td>\n",
       "      <td>54.886002</td>\n",
       "      <td>34.831001</td>\n",
       "      <td>0.680000</td>\n",
       "      <td>27/01/2021</td>\n",
       "      <td>8</td>\n",
       "      <td>17.73</td>\n",
       "    </tr>\n",
       "    <tr>\n",
       "      <th>4</th>\n",
       "      <td>BHR</td>\n",
       "      <td>The Kingdom of Bahrain</td>\n",
       "      <td>103.36</td>\n",
       "      <td>206.71</td>\n",
       "      <td>98.6</td>\n",
       "      <td>5.0</td>\n",
       "      <td>32.410000</td>\n",
       "      <td>77.0</td>\n",
       "      <td>19638.5120</td>\n",
       "      <td>1366.85100</td>\n",
       "      <td>82.218002</td>\n",
       "      <td>195.679990</td>\n",
       "      <td>71.260002</td>\n",
       "      <td>70.028999</td>\n",
       "      <td>53.060001</td>\n",
       "      <td>04/11/2020</td>\n",
       "      <td>8</td>\n",
       "      <td>21.76</td>\n",
       "    </tr>\n",
       "  </tbody>\n",
       "</table>\n",
       "</div>"
      ],
      "text/plain": [
       "   iso                              Country  Secured_Vaccine_Supply_(Percent)  \\\n",
       "0  VNM   The Socialist Republic of Viet Nam                            136.60   \n",
       "1  MYS                             Malaysia                            146.16   \n",
       "2  KWT                  The State of Kuwait                             90.47   \n",
       "3  BGD  The People's Republic of Bangladesh                            110.09   \n",
       "4  BHR               The Kingdom of Bahrain                            103.36   \n",
       "\n",
       "   Vaccine_Doses_Received_Percent  vaccine_willingness_monthly  \\\n",
       "0                          181.94                         99.1   \n",
       "1                          200.60                         98.8   \n",
       "2                          180.93                         98.8   \n",
       "3                          200.65                         98.6   \n",
       "4                          206.71                         98.6   \n",
       "\n",
       "   h7_vaccinationpolicy  stringencyindex   uhc  \\\n",
       "0                   5.0        68.519997  75.0   \n",
       "1                   5.0        50.459999  73.0   \n",
       "2                   5.0        26.850000  76.0   \n",
       "3                   5.0        64.809998  48.0   \n",
       "4                   5.0        32.410000  77.0   \n",
       "\n",
       "   casescumulativetotalper100000pop  casesnewlyreportedinlast7daysper  \\\n",
       "0                         2214.7271                         113.51500   \n",
       "1                         8762.7734                          78.69400   \n",
       "2                        11769.6210                         752.87402   \n",
       "3                         1041.9600                          50.52100   \n",
       "4                        19638.5120                        1366.85100   \n",
       "\n",
       "   deathscumulativetotalper100000po  total_vaccinations_per100  \\\n",
       "0                         37.891998                 170.050000   \n",
       "1                         98.566002                 186.049000   \n",
       "2                         58.236000                 169.619000   \n",
       "3                         17.157000                  89.717003   \n",
       "4                         82.218002                 195.679990   \n",
       "\n",
       "   persons_vaccinated_atleast_once  persons_fully_vaccinated_per100  \\\n",
       "0                        80.675003                        73.914001   \n",
       "1                        80.386002                        78.599998   \n",
       "2                        78.619003                        75.982002   \n",
       "3                        54.886002                        34.831001   \n",
       "4                        71.260002                        70.028999   \n",
       "\n",
       "   total_boosters_per_hundred first_vaccine_date  number_vaccines_types_used  \\\n",
       "0                         NaN         08/03/2021                           6   \n",
       "1                   33.270000         24/02/2021                           5   \n",
       "2                    8.800000         28/12/2020                           5   \n",
       "3                    0.680000         27/01/2021                           8   \n",
       "4                   53.060001         04/11/2020                           8   \n",
       "\n",
       "   Average trend  \n",
       "0          12.88  \n",
       "1          13.97  \n",
       "2          17.69  \n",
       "3          17.73  \n",
       "4          21.76  "
      ]
     },
     "execution_count": 2,
     "metadata": {},
     "output_type": "execute_result"
    }
   ],
   "source": [
    "#Input in CSV file removing the ultra high revenue outliers\n",
    "df = pd.read_csv(\"input file.csv\")\n",
    "df.head()"
   ]
  },
  {
   "cell_type": "code",
   "execution_count": 3,
   "metadata": {},
   "outputs": [
    {
     "data": {
      "text/plain": [
       "(94, 18)"
      ]
     },
     "execution_count": 3,
     "metadata": {},
     "output_type": "execute_result"
    }
   ],
   "source": [
    "#Shape of the dataframe\n",
    "df.shape"
   ]
  },
  {
   "cell_type": "code",
   "execution_count": 4,
   "metadata": {},
   "outputs": [
    {
     "name": "stdout",
     "output_type": "stream",
     "text": [
      "<class 'pandas.core.frame.DataFrame'>\n",
      "RangeIndex: 94 entries, 0 to 93\n",
      "Data columns (total 18 columns):\n",
      " #   Column                            Non-Null Count  Dtype  \n",
      "---  ------                            --------------  -----  \n",
      " 0   iso                               94 non-null     object \n",
      " 1   Country                           94 non-null     object \n",
      " 2   Secured_Vaccine_Supply_(Percent)  94 non-null     float64\n",
      " 3   Vaccine_Doses_Received_Percent    94 non-null     float64\n",
      " 4   vaccine_willingness_monthly       94 non-null     float64\n",
      " 5   h7_vaccinationpolicy              92 non-null     float64\n",
      " 6   stringencyindex                   92 non-null     float64\n",
      " 7   uhc                               93 non-null     float64\n",
      " 8   casescumulativetotalper100000pop  94 non-null     float64\n",
      " 9   casesnewlyreportedinlast7daysper  94 non-null     float64\n",
      " 10  deathscumulativetotalper100000po  94 non-null     float64\n",
      " 11  total_vaccinations_per100         94 non-null     float64\n",
      " 12  persons_vaccinated_atleast_once   94 non-null     float64\n",
      " 13  persons_fully_vaccinated_per100   94 non-null     float64\n",
      " 14  total_boosters_per_hundred        44 non-null     float64\n",
      " 15  first_vaccine_date                92 non-null     object \n",
      " 16  number_vaccines_types_used        94 non-null     int64  \n",
      " 17  Average trend                     94 non-null     float64\n",
      "dtypes: float64(14), int64(1), object(3)\n",
      "memory usage: 13.3+ KB\n"
     ]
    }
   ],
   "source": [
    "df.info(verbose=True)"
   ]
  },
  {
   "cell_type": "code",
   "execution_count": 5,
   "metadata": {},
   "outputs": [
    {
     "data": {
      "text/plain": [
       "<matplotlib.collections.PathCollection at 0x205c8b369d0>"
      ]
     },
     "execution_count": 5,
     "metadata": {},
     "output_type": "execute_result"
    },
    {
     "data": {
      "image/png": "[encoded data removed]",
      "text/plain": [
       "<Figure size 432x288 with 1 Axes>"
      ]
     },
     "metadata": {
      "needs_background": "light"
     },
     "output_type": "display_data"
    }
   ],
   "source": [
    "#Initial exploratory scatterplot\n",
    "plt.scatter(df['Vaccine_Doses_Received_Percent'],df['Secured_Vaccine_Supply_(Percent)'])"
   ]
  },
  {
   "cell_type": "code",
   "execution_count": 166,
   "metadata": {},
   "outputs": [
    {
     "data": {
      "text/plain": [
       "KMeans(n_clusters=5)"
      ]
     },
     "execution_count": 166,
     "metadata": {},
     "output_type": "execute_result"
    }
   ],
   "source": [
    "#Generating the KM function\n",
    "km = KMeans(n_clusters=5)\n",
    "km"
   ]
  },
  {
   "cell_type": "code",
   "execution_count": 167,
   "metadata": {},
   "outputs": [
    {
     "data": {
      "text/plain": [
       "array([3, 3, 0, 0, 0, 0, 0, 3, 0, 1, 1, 0, 0, 0, 3, 0, 2, 3, 3, 3, 3, 3,\n",
       "       0, 1, 2, 0, 3, 0, 2, 1, 0, 3, 0, 4, 0, 2, 0, 1, 0, 3, 0, 0, 0, 0,\n",
       "       1, 1, 1, 3, 3, 1, 1, 1, 1, 1, 1, 1, 0, 3, 1, 1, 1, 1, 1, 0, 1, 1,\n",
       "       1, 1, 1, 0, 0, 1, 0, 0, 1, 1, 1, 1, 1, 1, 1, 1, 1, 3, 3, 1, 1, 1,\n",
       "       0, 1, 1, 1, 1, 0])"
      ]
     },
     "execution_count": 167,
     "metadata": {},
     "output_type": "execute_result"
    }
   ],
   "source": [
    "#Creating the predicted cluster values\n",
    "y_predicted = km.fit_predict(df[['persons_vaccinated_atleast_once','Secured_Vaccine_Supply_(Percent)']])\n",
    "y_predicted"
   ]
  },
  {
   "cell_type": "code",
   "execution_count": 168,
   "metadata": {},
   "outputs": [
    {
     "data": {
      "text/html": [
       "<div>\n",
       "<style scoped>\n",
       "    .dataframe tbody tr th:only-of-type {\n",
       "        vertical-align: middle;\n",
       "    }\n",
       "\n",
       "    .dataframe tbody tr th {\n",
       "        vertical-align: top;\n",
       "    }\n",
       "\n",
       "    .dataframe thead th {\n",
       "        text-align: right;\n",
       "    }\n",
       "</style>\n",
       "<table border=\"1\" class=\"dataframe\">\n",
       "  <thead>\n",
       "    <tr style=\"text-align: right;\">\n",
       "      <th></th>\n",
       "      <th>iso</th>\n",
       "      <th>Country</th>\n",
       "      <th>Secured_Vaccine_Supply_(Percent)</th>\n",
       "      <th>Vaccine_Doses_Received_Percent</th>\n",
       "      <th>vaccine_willingness_monthly</th>\n",
       "      <th>h7_vaccinationpolicy</th>\n",
       "      <th>stringencyindex</th>\n",
       "      <th>uhc</th>\n",
       "      <th>casescumulativetotalper100000pop</th>\n",
       "      <th>casesnewlyreportedinlast7daysper</th>\n",
       "      <th>deathscumulativetotalper100000po</th>\n",
       "      <th>total_vaccinations_per100</th>\n",
       "      <th>persons_vaccinated_atleast_once</th>\n",
       "      <th>persons_fully_vaccinated_per100</th>\n",
       "      <th>total_boosters_per_hundred</th>\n",
       "      <th>first_vaccine_date</th>\n",
       "      <th>number_vaccines_types_used</th>\n",
       "      <th>Average trend</th>\n",
       "      <th>cluster</th>\n",
       "    </tr>\n",
       "  </thead>\n",
       "  <tbody>\n",
       "    <tr>\n",
       "      <th>0</th>\n",
       "      <td>VNM</td>\n",
       "      <td>The Socialist Republic of Viet Nam</td>\n",
       "      <td>136.60</td>\n",
       "      <td>181.94</td>\n",
       "      <td>99.1</td>\n",
       "      <td>5.0</td>\n",
       "      <td>68.519997</td>\n",
       "      <td>75.0</td>\n",
       "      <td>2214.7271</td>\n",
       "      <td>113.51500</td>\n",
       "      <td>37.891998</td>\n",
       "      <td>170.050000</td>\n",
       "      <td>80.675003</td>\n",
       "      <td>73.914001</td>\n",
       "      <td>NaN</td>\n",
       "      <td>08/03/2021</td>\n",
       "      <td>6</td>\n",
       "      <td>12.88</td>\n",
       "      <td>3</td>\n",
       "    </tr>\n",
       "    <tr>\n",
       "      <th>1</th>\n",
       "      <td>MYS</td>\n",
       "      <td>Malaysia</td>\n",
       "      <td>146.16</td>\n",
       "      <td>200.60</td>\n",
       "      <td>98.8</td>\n",
       "      <td>5.0</td>\n",
       "      <td>50.459999</td>\n",
       "      <td>73.0</td>\n",
       "      <td>8762.7734</td>\n",
       "      <td>78.69400</td>\n",
       "      <td>98.566002</td>\n",
       "      <td>186.049000</td>\n",
       "      <td>80.386002</td>\n",
       "      <td>78.599998</td>\n",
       "      <td>33.270000</td>\n",
       "      <td>24/02/2021</td>\n",
       "      <td>5</td>\n",
       "      <td>13.97</td>\n",
       "      <td>3</td>\n",
       "    </tr>\n",
       "    <tr>\n",
       "      <th>2</th>\n",
       "      <td>KWT</td>\n",
       "      <td>The State of Kuwait</td>\n",
       "      <td>90.47</td>\n",
       "      <td>180.93</td>\n",
       "      <td>98.8</td>\n",
       "      <td>5.0</td>\n",
       "      <td>26.850000</td>\n",
       "      <td>76.0</td>\n",
       "      <td>11769.6210</td>\n",
       "      <td>752.87402</td>\n",
       "      <td>58.236000</td>\n",
       "      <td>169.619000</td>\n",
       "      <td>78.619003</td>\n",
       "      <td>75.982002</td>\n",
       "      <td>8.800000</td>\n",
       "      <td>28/12/2020</td>\n",
       "      <td>5</td>\n",
       "      <td>17.69</td>\n",
       "      <td>0</td>\n",
       "    </tr>\n",
       "    <tr>\n",
       "      <th>3</th>\n",
       "      <td>BGD</td>\n",
       "      <td>The People's Republic of Bangladesh</td>\n",
       "      <td>110.09</td>\n",
       "      <td>200.65</td>\n",
       "      <td>98.6</td>\n",
       "      <td>5.0</td>\n",
       "      <td>64.809998</td>\n",
       "      <td>48.0</td>\n",
       "      <td>1041.9600</td>\n",
       "      <td>50.52100</td>\n",
       "      <td>17.157000</td>\n",
       "      <td>89.717003</td>\n",
       "      <td>54.886002</td>\n",
       "      <td>34.831001</td>\n",
       "      <td>0.680000</td>\n",
       "      <td>27/01/2021</td>\n",
       "      <td>8</td>\n",
       "      <td>17.73</td>\n",
       "      <td>0</td>\n",
       "    </tr>\n",
       "    <tr>\n",
       "      <th>4</th>\n",
       "      <td>BHR</td>\n",
       "      <td>The Kingdom of Bahrain</td>\n",
       "      <td>103.36</td>\n",
       "      <td>206.71</td>\n",
       "      <td>98.6</td>\n",
       "      <td>5.0</td>\n",
       "      <td>32.410000</td>\n",
       "      <td>77.0</td>\n",
       "      <td>19638.5120</td>\n",
       "      <td>1366.85100</td>\n",
       "      <td>82.218002</td>\n",
       "      <td>195.679990</td>\n",
       "      <td>71.260002</td>\n",
       "      <td>70.028999</td>\n",
       "      <td>53.060001</td>\n",
       "      <td>04/11/2020</td>\n",
       "      <td>8</td>\n",
       "      <td>21.76</td>\n",
       "      <td>0</td>\n",
       "    </tr>\n",
       "  </tbody>\n",
       "</table>\n",
       "</div>"
      ],
      "text/plain": [
       "   iso                              Country  Secured_Vaccine_Supply_(Percent)  \\\n",
       "0  VNM   The Socialist Republic of Viet Nam                            136.60   \n",
       "1  MYS                             Malaysia                            146.16   \n",
       "2  KWT                  The State of Kuwait                             90.47   \n",
       "3  BGD  The People's Republic of Bangladesh                            110.09   \n",
       "4  BHR               The Kingdom of Bahrain                            103.36   \n",
       "\n",
       "   Vaccine_Doses_Received_Percent  vaccine_willingness_monthly  \\\n",
       "0                          181.94                         99.1   \n",
       "1                          200.60                         98.8   \n",
       "2                          180.93                         98.8   \n",
       "3                          200.65                         98.6   \n",
       "4                          206.71                         98.6   \n",
       "\n",
       "   h7_vaccinationpolicy  stringencyindex   uhc  \\\n",
       "0                   5.0        68.519997  75.0   \n",
       "1                   5.0        50.459999  73.0   \n",
       "2                   5.0        26.850000  76.0   \n",
       "3                   5.0        64.809998  48.0   \n",
       "4                   5.0        32.410000  77.0   \n",
       "\n",
       "   casescumulativetotalper100000pop  casesnewlyreportedinlast7daysper  \\\n",
       "0                         2214.7271                         113.51500   \n",
       "1                         8762.7734                          78.69400   \n",
       "2                        11769.6210                         752.87402   \n",
       "3                         1041.9600                          50.52100   \n",
       "4                        19638.5120                        1366.85100   \n",
       "\n",
       "   deathscumulativetotalper100000po  total_vaccinations_per100  \\\n",
       "0                         37.891998                 170.050000   \n",
       "1                         98.566002                 186.049000   \n",
       "2                         58.236000                 169.619000   \n",
       "3                         17.157000                  89.717003   \n",
       "4                         82.218002                 195.679990   \n",
       "\n",
       "   persons_vaccinated_atleast_once  persons_fully_vaccinated_per100  \\\n",
       "0                        80.675003                        73.914001   \n",
       "1                        80.386002                        78.599998   \n",
       "2                        78.619003                        75.982002   \n",
       "3                        54.886002                        34.831001   \n",
       "4                        71.260002                        70.028999   \n",
       "\n",
       "   total_boosters_per_hundred first_vaccine_date  number_vaccines_types_used  \\\n",
       "0                         NaN         08/03/2021                           6   \n",
       "1                   33.270000         24/02/2021                           5   \n",
       "2                    8.800000         28/12/2020                           5   \n",
       "3                    0.680000         27/01/2021                           8   \n",
       "4                   53.060001         04/11/2020                           8   \n",
       "\n",
       "   Average trend  cluster  \n",
       "0          12.88        3  \n",
       "1          13.97        3  \n",
       "2          17.69        0  \n",
       "3          17.73        0  \n",
       "4          21.76        0  "
      ]
     },
     "execution_count": 168,
     "metadata": {},
     "output_type": "execute_result"
    }
   ],
   "source": [
    " #Creating a new column called cluster that contains the y_predicted cluster values\n",
    " df['cluster'] = y_predicted\n",
    " df.head()"
   ]
  },
  {
   "cell_type": "code",
   "execution_count": 169,
   "metadata": {},
   "outputs": [
    {
     "data": {
      "text/plain": [
       "<matplotlib.legend.Legend at 0x1747073f5b0>"
      ]
     },
     "execution_count": 169,
     "metadata": {},
     "output_type": "execute_result"
    },
    {
     "data": {
      "image/png": "[encoded data removed]",
      "text/plain": [
       "<Figure size 432x288 with 1 Axes>"
      ]
     },
     "metadata": {
      "needs_background": "light"
     },
     "output_type": "display_data"
    }
   ],
   "source": [
    "#Cluster scatter graph\n",
    "df1 = df[df.cluster==0]\n",
    "df2 = df[df.cluster==1]\n",
    "df3 = df[df.cluster==2]\n",
    "df4 = df[df.cluster==3]\n",
    "df5 = df[df.cluster==4]\n",
    "plt.scatter(df1.persons_vaccinated_atleast_once,df1['Secured_Vaccine_Supply_(Percent)'],color='green')\n",
    "plt.scatter(df2.persons_vaccinated_atleast_once,df2['Secured_Vaccine_Supply_(Percent)'],color='red')\n",
    "plt.scatter(df3.persons_vaccinated_atleast_once,df3['Secured_Vaccine_Supply_(Percent)'],color='cyan')\n",
    "plt.scatter(df4.persons_vaccinated_atleast_once,df4['Secured_Vaccine_Supply_(Percent)'],color='yellow')\n",
    "plt.scatter(df5.persons_vaccinated_atleast_once,df5['Secured_Vaccine_Supply_(Percent)'],color='purple')\n",
    "plt.scatter(km.cluster_centers_[:,0],km.cluster_centers_[:,1],color='pink',marker='*',label='centroid')\n",
    "plt.xlabel('persons_vaccinated_atleast_once')\n",
    "plt.ylabel('Secured_Vaccine_Supply_(Percent)')\n",
    "plt.legend()"
   ]
  },
  {
   "cell_type": "code",
   "execution_count": 171,
   "metadata": {},
   "outputs": [],
   "source": [
    "#Uses k_rng to work out the sse value for creation of the elbow chart\n",
    "k_rng = range(1,10)\n",
    "sse = []\n",
    "for k in k_rng:\n",
    "    km = KMeans(n_clusters=k)\n",
    "    km.fit(df[['persons_vaccinated_atleast_once','Secured_Vaccine_Supply_(Percent)']])\n",
    "    sse.append(km.inertia_)"
   ]
  },
  {
   "cell_type": "code",
   "execution_count": 172,
   "metadata": {},
   "outputs": [
    {
     "data": {
      "text/plain": [
       "[315833.85857377964,\n",
       " 150242.589926089,\n",
       " 73310.39018674094,\n",
       " 51647.03702848984,\n",
       " 39419.36387252984,\n",
       " 30642.518982526653,\n",
       " 23270.907973887937,\n",
       " 20171.03363949663,\n",
       " 16944.684581422847]"
      ]
     },
     "execution_count": 172,
     "metadata": {},
     "output_type": "execute_result"
    }
   ],
   "source": [
    "sse"
   ]
  },
  {
   "cell_type": "code",
   "execution_count": 173,
   "metadata": {},
   "outputs": [
    {
     "data": {
      "text/plain": [
       "[<matplotlib.lines.Line2D at 0x174707ae970>]"
      ]
     },
     "execution_count": 173,
     "metadata": {},
     "output_type": "execute_result"
    },
    {
     "data": {
      "image/png": "[encoded data removed]",
      "text/plain": [
       "<Figure size 432x288 with 1 Axes>"
      ]
     },
     "metadata": {
      "needs_background": "light"
     },
     "output_type": "display_data"
    }
   ],
   "source": [
    "#Elbow chart\n",
    "#This checks to see how many clusters the data should have by the elbow point\n",
    "plt.xlabel('K')\n",
    "plt.ylabel('Sum of squared error')\n",
    "plt.plot(k_rng,sse)"
   ]
  },
  {
   "cell_type": "code",
   "execution_count": 174,
   "metadata": {},
   "outputs": [],
   "source": [
    "#Outputs to csv file\n",
    "df.to_csv(r'output file.csv', index = False)"
   ]
  },
  {
   "cell_type": "code",
   "execution_count": null,
   "metadata": {},
   "outputs": [],
   "source": []
  }
 ],
 "metadata": {
  "interpreter": {
   "hash": "1a729281da7bd3a662772d74a77fd91442902d7840dfc29909222b81dcdf146b"
  },
  "kernelspec": {
   "display_name": "Python 3.9.4 64-bit",
   "language": "python",
   "name": "python3"
  },
  "language_info": {
   "codemirror_mode": {
    "name": "ipython",
    "version": 3
   },
   "file_extension": ".py",
   "mimetype": "text/x-python",
   "name": "python",
   "nbconvert_exporter": "python",
   "pygments_lexer": "ipython3",
   "version": "3.9.4"
  },
  "orig_nbformat": 4
 },
 "nbformat": 4,
 "nbformat_minor": 2
}
